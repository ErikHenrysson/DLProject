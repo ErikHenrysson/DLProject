{
 "cells": [
  {
   "cell_type": "markdown",
   "metadata": {},
   "source": [
    "Import all the relevant packages."
   ]
  },
  {
   "cell_type": "code",
   "execution_count": 11,
   "metadata": {},
   "outputs": [],
   "source": [
    "import torch\n",
    "import torch.nn as nn\n",
    "import torch.optim as optim\n",
    "import torch.nn.functional as F\n",
    "from torch.utils.data import DataLoader\n",
    "import torchvision.datasets as datasets\n",
    "import torchvision.transforms as transforms\n",
    "from my_func import *"
   ]
  },
  {
   "cell_type": "markdown",
   "metadata": {},
   "source": [
    "Define the architecture of the two neural networks we are going to compare."
   ]
  },
  {
   "cell_type": "code",
   "execution_count": 12,
   "metadata": {},
   "outputs": [],
   "source": [
    "\n",
    "class NN(nn.Module):\n",
    "    def __init__(self, input_size, num_classes):\n",
    "        super(NN, self).__init__()\n",
    "        self.fc1 = nn.Linear(input_size, 1200)\n",
    "        self.fc2 = nn.Linear(1200, 500)\n",
    "        self.fc3 = nn.Linear(500, num_classes)\n",
    "\n",
    "    def forward(self, x):\n",
    "        x = x.reshape(x.shape[0], -1)\n",
    "        x = F.relu(self.fc1(x))\n",
    "        x = F.relu(self.fc2(x))\n",
    "        x = self.fc3(x)\n",
    "        return x       \n",
    "\n",
    "class CNN(nn.Module):\n",
    "    def __init__(self):\n",
    "        super(CNN, self).__init__()\n",
    "        self.conv1 = nn.Conv2d(in_channels=3, out_channels=6, kernel_size=3)\n",
    "        self.pool = nn.MaxPool2d(kernel_size=2, stride=2)\n",
    "        self.conv2 = nn.Conv2d(in_channels=6, out_channels=16, kernel_size=5)\n",
    "        self.fc1 = nn.Linear(16*5*5, 120)\n",
    "        self.fc2 = nn.Linear(120, 84)\n",
    "        self.fc3 = nn.Linear(84, 10)\n",
    "\n",
    "    def forward(self, x):\n",
    "        x = self.pool(F.relu(self.conv1(x)))\n",
    "        x = self.pool(F.relu(self.conv2(x)))\n",
    "        x = x.reshape(x.shape[0], -1)\n",
    "        x = F.relu(self.fc1(x))\n",
    "        x = F.relu(self.fc2(x))\n",
    "        x = self.fc3(x)\n",
    "        return x "
   ]
  },
  {
   "cell_type": "markdown",
   "metadata": {},
   "source": [
    "Set device to cuda if it exists, otherwise run on cpu."
   ]
  },
  {
   "cell_type": "code",
   "execution_count": 13,
   "metadata": {},
   "outputs": [
    {
     "data": {
      "text/plain": [
       "'cuda'"
      ]
     },
     "execution_count": 13,
     "metadata": {},
     "output_type": "execute_result"
    }
   ],
   "source": [
    "device = torch.device('cuda' if torch.cuda.is_available() else 'cpu')\n",
    "device.type"
   ]
  },
  {
   "cell_type": "markdown",
   "metadata": {},
   "source": [
    "Define input size(only used for linnear model), number of classes in the dataset, learning rate, batch size, number of epochs and the classes in the given dataset(for testing accuracy later)."
   ]
  },
  {
   "cell_type": "code",
   "execution_count": 14,
   "metadata": {},
   "outputs": [],
   "source": [
    "input_size = 32*32*3\n",
    "num_classes = 10\n",
    "learning_rate = 0.001\n",
    "batch_size = 64\n",
    "num_epochs = 100\n",
    "classes = ('plane', 'car', 'bird', 'cat',\n",
    "           'deer', 'dog', 'frog', 'horse', 'ship', 'truck')"
   ]
  },
  {
   "cell_type": "markdown",
   "metadata": {},
   "source": [
    "Load/download the desired dataset. Split them into train and test sets."
   ]
  },
  {
   "cell_type": "code",
   "execution_count": 15,
   "metadata": {},
   "outputs": [
    {
     "name": "stdout",
     "output_type": "stream",
     "text": [
      "Files already downloaded and verified\n",
      "Files already downloaded and verified\n"
     ]
    }
   ],
   "source": [
    "train_dataset = datasets.CIFAR10(root = 'dataset/', train = True, transform = transforms.ToTensor(), download = True)\n",
    "train_loader = DataLoader(dataset = train_dataset, batch_size = batch_size, shuffle = True)\n",
    "test_dataset = datasets.CIFAR10(root = 'dataset/', train = False, transform = transforms.ToTensor(), download = True)\n",
    "test_loader = DataLoader(dataset = test_dataset, batch_size = batch_size, shuffle = True)"
   ]
  },
  {
   "cell_type": "markdown",
   "metadata": {},
   "source": [
    "Create the models and define lossfunction and optimizer."
   ]
  },
  {
   "cell_type": "code",
   "execution_count": 16,
   "metadata": {},
   "outputs": [],
   "source": [
    "linear_model = NN(input_size = input_size, num_classes = num_classes).to(device = device)\n",
    "convolutional_model = CNN().to(device = device)\n",
    "\n",
    "criterion = nn.CrossEntropyLoss()\n",
    "\n",
    "linear_optimizer = optim.Adam(linear_model.parameters(), lr = learning_rate)\n",
    "convolutional_optimizer = optim.Adam(convolutional_model.parameters(), lr = learning_rate)"
   ]
  },
  {
   "cell_type": "markdown",
   "metadata": {},
   "source": [
    "Train both models using their forward function and my own train function(see my_func.py)."
   ]
  },
  {
   "cell_type": "code",
   "execution_count": 17,
   "metadata": {},
   "outputs": [],
   "source": [
    "my_train(linear_model, num_epochs, train_loader, criterion, linear_optimizer, device) #Train Linear model\n",
    "my_train(convolutional_model, num_epochs, train_loader, criterion, convolutional_optimizer, device) #Train convolutional model"
   ]
  },
  {
   "cell_type": "markdown",
   "metadata": {},
   "source": [
    "Check overall accuracy on train and test sets with both models."
   ]
  },
  {
   "cell_type": "code",
   "execution_count": 18,
   "metadata": {},
   "outputs": [
    {
     "name": "stdout",
     "output_type": "stream",
     "text": [
      "Linear model: \n",
      "Checking accuracy on the training data\n",
      "Got 14349 / 50000 with accuracy 28.70\n",
      "Checking accuracy on test data\n",
      "Got 2829 / 10000 with accuracy 28.29\n",
      "Convolutional model: \n",
      "Checking accuracy on the training data\n",
      "Got 24390 / 50000 with accuracy 48.78\n",
      "Checking accuracy on test data\n",
      "Got 4700 / 10000 with accuracy 47.00\n"
     ]
    }
   ],
   "source": [
    "print(\"Linear model: \")\n",
    "check_accuracy(train_loader, linear_model, device)\n",
    "check_accuracy(test_loader, linear_model, device)\n",
    "print(\"Convolutional model: \")\n",
    "check_accuracy(train_loader, convolutional_model, device)\n",
    "check_accuracy(test_loader, convolutional_model, device)"
   ]
  },
  {
   "cell_type": "markdown",
   "metadata": {},
   "source": [
    "Check the accuracy of the models based on specific classes in the datasets."
   ]
  },
  {
   "cell_type": "code",
   "execution_count": 19,
   "metadata": {},
   "outputs": [
    {
     "name": "stdout",
     "output_type": "stream",
     "text": [
      "Checking accuracy of convolutional model: \n",
      "\n",
      "Accuracy for class: plane is 11.1 %\n",
      "Accuracy for class: car   is 10.5 %\n",
      "Accuracy for class: bird  is 0.0 %\n",
      "Accuracy for class: cat   is 2.2 %\n",
      "Accuracy for class: deer  is 15.0 %\n",
      "Accuracy for class: dog   is 43.5 %\n",
      "Accuracy for class: frog  is 68.6 %\n",
      "Accuracy for class: horse is 22.2 %\n",
      "Accuracy for class: ship  is 39.6 %\n",
      "Accuracy for class: truck is 70.2 %\n",
      "Number of parameters in Linear NN: 4293110\n"
     ]
    }
   ],
   "source": [
    "print(\"Checking accuracy of convolutional model: \\n\")\n",
    "check_accuracy_by_class(classes, test_loader, device, linear_model)\n",
    "print(\"Number of parameters in Linear NN:\", sum(p.numel() for p in linear_model.parameters() if p.requires_grad))"
   ]
  },
  {
   "cell_type": "code",
   "execution_count": 20,
   "metadata": {},
   "outputs": [
    {
     "name": "stdout",
     "output_type": "stream",
     "text": [
      "Checking accuracy of convolutional model: \n",
      "\n",
      "Accuracy for class: plane is 58.6 %\n",
      "Accuracy for class: car   is 73.7 %\n",
      "Accuracy for class: bird  is 23.5 %\n",
      "Accuracy for class: cat   is 27.9 %\n",
      "Accuracy for class: deer  is 31.2 %\n",
      "Accuracy for class: dog   is 41.3 %\n",
      "Accuracy for class: frog  is 79.6 %\n",
      "Accuracy for class: horse is 37.7 %\n",
      "Accuracy for class: ship  is 48.7 %\n",
      "Accuracy for class: truck is 47.8 %\n",
      "Number of parameters in convolutional NN: 61718\n"
     ]
    }
   ],
   "source": [
    "print(\"Checking accuracy of convolutional model: \\n\")\n",
    "check_accuracy_by_class(classes, test_loader, device, convolutional_model)\n",
    "print(\"Number of parameters in convolutional NN:\", sum(p.numel() for p in convolutional_model.parameters() if p.requires_grad))"
   ]
  }
 ],
 "metadata": {
  "kernelspec": {
   "display_name": "Python 3.9.12 ('pytorch')",
   "language": "python",
   "name": "python3"
  },
  "language_info": {
   "codemirror_mode": {
    "name": "ipython",
    "version": 3
   },
   "file_extension": ".py",
   "mimetype": "text/x-python",
   "name": "python",
   "nbconvert_exporter": "python",
   "pygments_lexer": "ipython3",
   "version": "3.9.12"
  },
  "orig_nbformat": 4,
  "vscode": {
   "interpreter": {
    "hash": "69ce29dbb01e289b44620bbaaa0cac7be9a4ca94eece16c78fdeaf1ca71dfde6"
   }
  }
 },
 "nbformat": 4,
 "nbformat_minor": 2
}
