{
 "cells": [
  {
   "cell_type": "markdown",
   "metadata": {},
   "source": [
    "Import all the relevant packages."
   ]
  },
  {
   "cell_type": "code",
   "execution_count": 219,
   "metadata": {},
   "outputs": [],
   "source": [
    "import torch\n",
    "import torch.nn as nn\n",
    "import torch.optim as optim\n",
    "import torch.nn.functional as F\n",
    "from torch.utils.data import DataLoader\n",
    "import torchvision.datasets as datasets\n",
    "import torchvision.transforms as transforms\n",
    "from my_func import *\n",
    "from torchsummary import summary"
   ]
  },
  {
   "cell_type": "markdown",
   "metadata": {},
   "source": [
    "Define the architecture of the two neural networks we are going to compare."
   ]
  },
  {
   "cell_type": "code",
   "execution_count": 220,
   "metadata": {},
   "outputs": [],
   "source": [
    "\n",
    "class NN(nn.Module):\n",
    "    def __init__(self, input_size, num_classes):\n",
    "        super(NN, self).__init__()\n",
    "        self.fc1 = nn.Linear(input_size, 400)\n",
    "        self.fc2 = nn.Linear(400, 200)\n",
    "        self.fc3 = nn.Linear(200, num_classes)\n",
    "\n",
    "    def forward(self, x):\n",
    "        x = x.reshape(x.shape[0], -1)\n",
    "        x = F.relu(self.fc1(x))\n",
    "        x = F.relu(self.fc2(x))\n",
    "        x = self.fc3(x)\n",
    "        return x       \n",
    "\n",
    "class CNN(nn.Module):\n",
    "    def __init__(self):\n",
    "        super(CNN, self).__init__()\n",
    "        #self.conv1 = nn.Conv2d(in_channels=3, out_channels=15, kernel_size=11, padding=5)\n",
    "        self.pool = nn.MaxPool2d(kernel_size=2, stride=2)\n",
    "        self.conv2 = nn.Conv2d(in_channels=3, out_channels=15, kernel_size=7, padding=3)\n",
    "        self.dropout1 = nn.Dropout(0.25)\n",
    "        self.dropout2 = nn.Dropout(0.5)\n",
    "        self.fc1 = nn.Linear(34560, 120)\n",
    "        self.fc2 = nn.Linear(120, 84)\n",
    "        self.fc3 = nn.Linear(84, 10)\n",
    "\n",
    "    def forward(self, x):\n",
    "        #x = self.pool(F.relu(self.conv1(x)))\n",
    "        x = self.pool(F.relu(self.conv2(x)))\n",
    "        x = self.dropout1(x)\n",
    "        x = x.reshape(x.shape[0], -1)\n",
    "        x = F.relu(self.fc1(x))\n",
    "        x = self.dropout1(x)\n",
    "        x = F.relu(self.fc2(x))\n",
    "        x = self.fc3(x)\n",
    "        return x "
   ]
  },
  {
   "cell_type": "markdown",
   "metadata": {},
   "source": [
    "Set device to cuda if it exists, otherwise run on cpu."
   ]
  },
  {
   "cell_type": "code",
   "execution_count": 221,
   "metadata": {},
   "outputs": [
    {
     "data": {
      "text/plain": [
       "'cuda'"
      ]
     },
     "execution_count": 221,
     "metadata": {},
     "output_type": "execute_result"
    }
   ],
   "source": [
    "device = torch.device('cuda' if torch.cuda.is_available() else 'cpu')\n",
    "device.type"
   ]
  },
  {
   "cell_type": "markdown",
   "metadata": {},
   "source": [
    "Define input size(only used for linnear model), number of classes in the dataset, learning rate, batch size, number of epochs and the classes in the given dataset(for testing accuracy later)."
   ]
  },
  {
   "cell_type": "code",
   "execution_count": 222,
   "metadata": {},
   "outputs": [],
   "source": [
    "input_size = 96*96*3\n",
    "num_classes = 10\n",
    "learning_rate = 0.0001\n",
    "batch_size = 64 \n",
    "num_epochs = 50\n",
    "classes = ('airplane', 'bird', 'car', 'cat', 'deer', 'dog', 'horse', 'monkey', 'ship', 'truck')"
   ]
  },
  {
   "cell_type": "markdown",
   "metadata": {},
   "source": [
    "Load/download the desired dataset. Split them into train and test sets."
   ]
  },
  {
   "cell_type": "code",
   "execution_count": 223,
   "metadata": {},
   "outputs": [
    {
     "name": "stdout",
     "output_type": "stream",
     "text": [
      "Files already downloaded and verified\n",
      "Files already downloaded and verified\n"
     ]
    }
   ],
   "source": [
    "train_dataset = datasets.STL10(root = 'dataset/', split = 'train', transform = transforms.ToTensor(), download = True)\n",
    "train_loader = DataLoader(dataset = train_dataset, batch_size = batch_size, shuffle = True)\n",
    "test_dataset = datasets.STL10(root = 'dataset/', split = 'test', transform = transforms.ToTensor(), download = True)\n",
    "test_loader = DataLoader(dataset = test_dataset, batch_size = batch_size, shuffle = True)"
   ]
  },
  {
   "cell_type": "markdown",
   "metadata": {},
   "source": [
    "Create the models and define lossfunction and optimizer."
   ]
  },
  {
   "cell_type": "code",
   "execution_count": 224,
   "metadata": {},
   "outputs": [],
   "source": [
    "linear_model = NN(input_size = input_size, num_classes = num_classes).to(device = device)\n",
    "convolutional_model = CNN().to(device = device)\n",
    "\n",
    "criterion = nn.CrossEntropyLoss()\n",
    "\n",
    "linear_optimizer = optim.Adam(linear_model.parameters(), lr = learning_rate)\n",
    "convolutional_optimizer = optim.Adam(convolutional_model.parameters(), lr = learning_rate)"
   ]
  },
  {
   "cell_type": "markdown",
   "metadata": {},
   "source": [
    "Train both models using their forward function and my own train function(see my_func.py)."
   ]
  },
  {
   "cell_type": "code",
   "execution_count": 225,
   "metadata": {},
   "outputs": [],
   "source": [
    "my_train(linear_model, num_epochs, train_loader, criterion, linear_optimizer, device) #Train Linear model\n"
   ]
  },
  {
   "cell_type": "code",
   "execution_count": 226,
   "metadata": {},
   "outputs": [],
   "source": [
    "my_train(convolutional_model, num_epochs, train_loader, criterion, convolutional_optimizer, device) #Train convolutional model"
   ]
  },
  {
   "cell_type": "markdown",
   "metadata": {},
   "source": [
    "Check overall accuracy on train and test sets with both models."
   ]
  },
  {
   "cell_type": "code",
   "execution_count": 227,
   "metadata": {},
   "outputs": [
    {
     "name": "stdout",
     "output_type": "stream",
     "text": [
      "Linear model(STL10): \n",
      "Checking accuracy on the training data\n",
      "Got 4396 / 5000 with accuracy 87.92\n",
      "Checking accuracy on test data\n",
      "Got 3261 / 8000 with accuracy 40.76\n",
      " \n",
      "Convolutional model(STL10): \n",
      "Checking accuracy on the training data\n",
      "Got 4891 / 5000 with accuracy 97.82\n",
      "Checking accuracy on test data\n",
      "Got 4209 / 8000 with accuracy 52.61\n"
     ]
    }
   ],
   "source": [
    "print(\"Linear model(STL10): \")\n",
    "check_STLaccuracy(train_loader, linear_model, device)\n",
    "check_STLaccuracy(test_loader, linear_model, device)\n",
    "print(\" \\nConvolutional model(STL10): \")\n",
    "check_STLaccuracy(train_loader, convolutional_model, device)\n",
    "check_STLaccuracy(test_loader, convolutional_model, device)"
   ]
  },
  {
   "cell_type": "markdown",
   "metadata": {},
   "source": [
    "Check the accuracy of the models based on specific classes in the datasets."
   ]
  },
  {
   "cell_type": "code",
   "execution_count": 228,
   "metadata": {},
   "outputs": [
    {
     "name": "stdout",
     "output_type": "stream",
     "text": [
      "Accuracy for class: airplane is 51.2 %\n",
      "Accuracy for class: bird  is 15.5 %\n",
      "Accuracy for class: car   is 54.9 %\n",
      "Accuracy for class: cat   is 18.2 %\n",
      "Accuracy for class: deer  is 33.4 %\n",
      "Accuracy for class: dog   is 31.2 %\n",
      "Accuracy for class: horse is 52.9 %\n",
      "Accuracy for class: monkey is 36.6 %\n",
      "Accuracy for class: ship  is 67.6 %\n",
      "Accuracy for class: truck is 46.0 %\n",
      "=================================================================\n",
      "Layer (type:depth-idx)                   Param #\n",
      "=================================================================\n",
      "├─Linear: 1-1                            11,059,600\n",
      "├─Linear: 1-2                            80,200\n",
      "├─Linear: 1-3                            2,010\n",
      "=================================================================\n",
      "Total params: 11,141,810\n",
      "Trainable params: 11,141,810\n",
      "Non-trainable params: 0\n",
      "=================================================================\n"
     ]
    },
    {
     "data": {
      "text/plain": [
       "=================================================================\n",
       "Layer (type:depth-idx)                   Param #\n",
       "=================================================================\n",
       "├─Linear: 1-1                            11,059,600\n",
       "├─Linear: 1-2                            80,200\n",
       "├─Linear: 1-3                            2,010\n",
       "=================================================================\n",
       "Total params: 11,141,810\n",
       "Trainable params: 11,141,810\n",
       "Non-trainable params: 0\n",
       "================================================================="
      ]
     },
     "execution_count": 228,
     "metadata": {},
     "output_type": "execute_result"
    }
   ],
   "source": [
    "#print(\"Checking accuracy of convolutional model(STL10): \\n\")\n",
    "check_accuracy_by_class(classes, test_loader, device, linear_model)\n",
    "#print(\"Number of parameters in Linear NN:\", sum(p.numel() for p in linear_model.parameters() if p.requires_grad))\n",
    "summary(linear_model)"
   ]
  },
  {
   "cell_type": "code",
   "execution_count": 229,
   "metadata": {},
   "outputs": [
    {
     "name": "stdout",
     "output_type": "stream",
     "text": [
      "Accuracy for class: airplane is 72.6 %\n",
      "Accuracy for class: bird  is 37.5 %\n",
      "Accuracy for class: car   is 69.4 %\n",
      "Accuracy for class: cat   is 30.1 %\n",
      "Accuracy for class: deer  is 50.9 %\n",
      "Accuracy for class: dog   is 23.9 %\n",
      "Accuracy for class: horse is 51.2 %\n",
      "Accuracy for class: monkey is 38.9 %\n",
      "Accuracy for class: ship  is 66.0 %\n",
      "Accuracy for class: truck is 56.4 %\n",
      "=================================================================\n",
      "Layer (type:depth-idx)                   Param #\n",
      "=================================================================\n",
      "├─MaxPool2d: 1-1                         --\n",
      "├─Conv2d: 1-2                            2,220\n",
      "├─Dropout: 1-3                           --\n",
      "├─Dropout: 1-4                           --\n",
      "├─Linear: 1-5                            4,147,320\n",
      "├─Linear: 1-6                            10,164\n",
      "├─Linear: 1-7                            850\n",
      "=================================================================\n",
      "Total params: 4,160,554\n",
      "Trainable params: 4,160,554\n",
      "Non-trainable params: 0\n",
      "=================================================================\n"
     ]
    },
    {
     "data": {
      "text/plain": [
       "=================================================================\n",
       "Layer (type:depth-idx)                   Param #\n",
       "=================================================================\n",
       "├─MaxPool2d: 1-1                         --\n",
       "├─Conv2d: 1-2                            2,220\n",
       "├─Dropout: 1-3                           --\n",
       "├─Dropout: 1-4                           --\n",
       "├─Linear: 1-5                            4,147,320\n",
       "├─Linear: 1-6                            10,164\n",
       "├─Linear: 1-7                            850\n",
       "=================================================================\n",
       "Total params: 4,160,554\n",
       "Trainable params: 4,160,554\n",
       "Non-trainable params: 0\n",
       "================================================================="
      ]
     },
     "execution_count": 229,
     "metadata": {},
     "output_type": "execute_result"
    }
   ],
   "source": [
    "#print(\"Checking accuracy of convolutional model: \\n\")\n",
    "check_accuracy_by_class(classes, test_loader, device, convolutional_model)\n",
    "#print(\"Number of parameters in convolutional NN:\", sum(p.numel() for p in convolutional_model.parameters() if p.requires_grad))\n",
    "summary(convolutional_model)"
   ]
  },
  {
   "cell_type": "code",
   "execution_count": null,
   "metadata": {},
   "outputs": [],
   "source": []
  }
 ],
 "metadata": {
  "kernelspec": {
   "display_name": "Python 3.9.12 ('pytorch')",
   "language": "python",
   "name": "python3"
  },
  "language_info": {
   "codemirror_mode": {
    "name": "ipython",
    "version": 3
   },
   "file_extension": ".py",
   "mimetype": "text/x-python",
   "name": "python",
   "nbconvert_exporter": "python",
   "pygments_lexer": "ipython3",
   "version": "3.9.12"
  },
  "orig_nbformat": 4,
  "vscode": {
   "interpreter": {
    "hash": "69ce29dbb01e289b44620bbaaa0cac7be9a4ca94eece16c78fdeaf1ca71dfde6"
   }
  }
 },
 "nbformat": 4,
 "nbformat_minor": 2
}
